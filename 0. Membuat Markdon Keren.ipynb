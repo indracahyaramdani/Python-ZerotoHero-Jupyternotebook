{
 "cells": [
  {
   "attachments": {},
   "cell_type": "markdown",
   "metadata": {},
   "source": [
    "# Daftar Isi"
   ]
  },
  {
   "attachments": {},
   "cell_type": "markdown",
   "metadata": {},
   "source": [
    "1. [Pengenalan Markdown](#apa-itu-markdown)\n",
    "2. [Heading](#heading)"
   ]
  },
  {
   "attachments": {},
   "cell_type": "markdown",
   "metadata": {},
   "source": [
    "# Apa itu Markdown ?"
   ]
  },
  {
   "attachments": {},
   "cell_type": "markdown",
   "metadata": {},
   "source": [
    "# Heading"
   ]
  },
  {
   "attachments": {},
   "cell_type": "markdown",
   "metadata": {},
   "source": [
    "## Apa itu Heading ?"
   ]
  },
  {
   "attachments": {},
   "cell_type": "markdown",
   "metadata": {},
   "source": [
    "Secara pengertian heading meruapakan sebuah judul untuk memisahkan bagian A dengan bagian lainya. Jika mencari contoh dari penerapan Heading kita bayangkan saja sebuah buku. Sebuah buku memiliki Bab 1, Bab 2 dan seterusnya(Heading 1). Tidak hanya Bab utama ada juga sub bab 1, sub bab 2 (Heading 2). Dan seterusnya. "
   ]
  },
  {
   "attachments": {},
   "cell_type": "markdown",
   "metadata": {},
   "source": [
    "## Cara Membuat Heading ?"
   ]
  },
  {
   "attachments": {},
   "cell_type": "markdown",
   "metadata": {},
   "source": [
    "Dalam membuat heading kita haru lebih tahu dulu susunan yang akan dibuat. Sebagai contoh kita akan membuat susunanya sebagai berikut.\n",
    "\n",
    "- Bab 1 (Heading 1)\n",
    "    - Sub Bab 1.1 (Heading 2)\n",
    "        - Subsub Bab 1.1.1 (Heading 3)\n",
    "    - Sub Bab 1.2\n",
    "- Bab 2"
   ]
  },
  {
   "attachments": {},
   "cell_type": "markdown",
   "metadata": {},
   "source": [
    "Untuk membuat contoh diatas dapat menggunakan kode berikut.\n",
    "\n",
    "```md\n",
    "# Bab 1\n",
    "## Sub Bab 1.1\n",
    "### Subsub Bab 1.1.1\n",
    "## Sub Bab 1.2\n",
    "# Bab 2\n",
    "```"
   ]
  },
  {
   "attachments": {},
   "cell_type": "markdown",
   "metadata": {},
   "source": [
    "Heading terdiri dari Heading 1, Heading 2, sampai Heading 7. "
   ]
  },
  {
   "attachments": {},
   "cell_type": "markdown",
   "metadata": {},
   "source": [
    "# Menerapkan Gaya pada Teks"
   ]
  },
  {
   "attachments": {},
   "cell_type": "markdown",
   "metadata": {},
   "source": [
    "## Bold"
   ]
  },
  {
   "attachments": {},
   "cell_type": "markdown",
   "metadata": {},
   "source": [
    "**Membuat Bold**"
   ]
  },
  {
   "attachments": {},
   "cell_type": "markdown",
   "metadata": {},
   "source": [
    "```md\n",
    "**Membuat Bold**\n",
    "```"
   ]
  },
  {
   "attachments": {},
   "cell_type": "markdown",
   "metadata": {},
   "source": [
    "## Italic"
   ]
  },
  {
   "attachments": {},
   "cell_type": "markdown",
   "metadata": {},
   "source": [
    "*Membuat Italic*"
   ]
  },
  {
   "attachments": {},
   "cell_type": "markdown",
   "metadata": {},
   "source": [
    "```md\n",
    "*Membuat Italic*\n",
    "```"
   ]
  },
  {
   "attachments": {},
   "cell_type": "markdown",
   "metadata": {},
   "source": [
    "## Bold Italic"
   ]
  },
  {
   "attachments": {},
   "cell_type": "markdown",
   "metadata": {},
   "source": [
    "***Membuat Bold Italic***"
   ]
  },
  {
   "attachments": {},
   "cell_type": "markdown",
   "metadata": {},
   "source": [
    "```md\n",
    "***Membuat Bold Italic***\n",
    "```"
   ]
  },
  {
   "attachments": {},
   "cell_type": "markdown",
   "metadata": {},
   "source": [
    "## Blockquote"
   ]
  },
  {
   "attachments": {},
   "cell_type": "markdown",
   "metadata": {},
   "source": [
    "> Quotes : Jangan lama-lama Jomblo"
   ]
  },
  {
   "attachments": {},
   "cell_type": "markdown",
   "metadata": {},
   "source": [
    "```md\n",
    "> Quotes : Jangan lama-lama Jomblo\n",
    "```"
   ]
  },
  {
   "attachments": {},
   "cell_type": "markdown",
   "metadata": {},
   "source": [
    "## Blocktext"
   ]
  },
  {
   "attachments": {},
   "cell_type": "markdown",
   "metadata": {},
   "source": [
    "`Membuat Blocktext`"
   ]
  },
  {
   "attachments": {},
   "cell_type": "markdown",
   "metadata": {},
   "source": [
    "```md\n",
    "`Membuat Blocktext`\n",
    "```"
   ]
  },
  {
   "attachments": {},
   "cell_type": "markdown",
   "metadata": {},
   "source": [
    "> ` : Backtick (Dibawah Esc dan atas Tab)"
   ]
  },
  {
   "attachments": {},
   "cell_type": "markdown",
   "metadata": {},
   "source": [
    "## Hyperlink"
   ]
  },
  {
   "attachments": {},
   "cell_type": "markdown",
   "metadata": {},
   "source": [
    "Hyperlink adalah sebuah sourcut untuk menuju bagian tertentu dalam notebook dan dapat juga menuju sebuah website. Sebagai contoh nanti kita akan coba membuat hyperlink ke bagian **Daftar Isi** dan menuju sebuah website github : wwww.github.com/indracahyaramdani. "
   ]
  },
  {
   "attachments": {},
   "cell_type": "markdown",
   "metadata": {},
   "source": [
    "**Hyperlink ke bagian daftar isi**\n",
    "\n",
    "- [Klik disini](#daftar-isi) untuk menuju ke daftar isi\n",
    "\n",
    "Jika dilihat dalam bentuk kode maka seperti berikut.\n",
    "\n",
    "```md\n",
    "**Hyperlink ke bagian daftar isi**\n",
    "\n",
    "- [Klik disini](#daftar-isi) untuk menuju ke daftar isi\n",
    "```"
   ]
  },
  {
   "attachments": {},
   "cell_type": "markdown",
   "metadata": {},
   "source": [
    "**Hyperlink menuju website**\n",
    "\n",
    "- [Klik disini](www.github.com/indracahyaramdani) untuk menutu ke www.github.com/indracahyaramadani"
   ]
  },
  {
   "attachments": {},
   "cell_type": "markdown",
   "metadata": {},
   "source": [
    "## Ordered List"
   ]
  },
  {
   "attachments": {},
   "cell_type": "markdown",
   "metadata": {},
   "source": [
    "Ordered List adalah sebuah urutan yang dipisahkan oleh sebuah angka. Sebagai contoh kita akan membuat urutan keseharian kita di rumah dengan urutan pertama bangun tidur, mandi, menggosok gigi, bantu ibu, membersihkan tempat tidur, dan pergi sekolah. Setelah diketahui apa saja yang akan diurutkan maka dibuat dalam sebuah ordered list sebagai berikut.\n",
    "\n",
    "1. Bangun Tidur\n",
    "2. Mandi\n",
    "3. Menggosok Gigi\n",
    "4. Bantu Ibu\n",
    "5. Membersihkan Tempat Tidur\n",
    "6. Pergi Sekolah"
   ]
  },
  {
   "attachments": {},
   "cell_type": "markdown",
   "metadata": {},
   "source": [
    "untuk membuat ordered list seperti diatas dapat menggunakan kode sebagai berikut.\n",
    "\n",
    "```md\n",
    "1. Bangun Tidur\n",
    "2. Mandi\n",
    "3. Menggosok Gigi\n",
    "4. Bantu Ibu\n",
    "5. Membersikan Tempat Tidur\n",
    "6. Pergi Sekolah\n",
    "```"
   ]
  },
  {
   "attachments": {},
   "cell_type": "markdown",
   "metadata": {},
   "source": [
    "## Unordered List"
   ]
  },
  {
   "attachments": {},
   "cell_type": "markdown",
   "metadata": {},
   "source": [
    "Unordered List kegunaanya sama seperti Ordered List akan tetapi, pada kasus disini urutanya diganti dengan **start** bukan angka. Menggunakan urutan yang sama kita akan coba aplikasikan pada kasus ini.\n",
    "\n",
    "* Bangun Tidur\n",
    "* Mandi\n",
    "* Menggosok Gigi\n",
    "* Bantu Ibu\n",
    "* Membersihkan Tempat Tidur\n",
    "* Pergi Sekolah"
   ]
  },
  {
   "attachments": {},
   "cell_type": "markdown",
   "metadata": {},
   "source": [
    "Untuk membuat unordered list dapat mengikuti kode berikut.\n",
    "\n",
    "```md\n",
    "* Bangun tidur\n",
    "* Mandi\n",
    "* Menggosok Gigi\n",
    "* Bantu Ibu\n",
    "* Membersihkan Tempat Tidur\n",
    "* Pergi Sekolah\n",
    "```"
   ]
  },
  {
   "attachments": {},
   "cell_type": "markdown",
   "metadata": {},
   "source": [
    "# Advance Markdown"
   ]
  },
  {
   "attachments": {},
   "cell_type": "markdown",
   "metadata": {},
   "source": [
    "## Gambar"
   ]
  },
  {
   "attachments": {},
   "cell_type": "markdown",
   "metadata": {},
   "source": [
    "## Tabel"
   ]
  },
  {
   "attachments": {},
   "cell_type": "markdown",
   "metadata": {},
   "source": [
    "## Fenced Code Block"
   ]
  },
  {
   "attachments": {},
   "cell_type": "markdown",
   "metadata": {},
   "source": [
    "## Footnote"
   ]
  },
  {
   "attachments": {},
   "cell_type": "markdown",
   "metadata": {},
   "source": [
    "# Costumize Latex in Notebook "
   ]
  },
  {
   "attachments": {},
   "cell_type": "markdown",
   "metadata": {},
   "source": [
    "## Subscript"
   ]
  },
  {
   "attachments": {},
   "cell_type": "markdown",
   "metadata": {},
   "source": [
    "$H_2$\n",
    "\n",
    "\n",
    "$H_{index}$"
   ]
  },
  {
   "attachments": {},
   "cell_type": "markdown",
   "metadata": {},
   "source": [
    "## Exponentiation"
   ]
  },
  {
   "attachments": {},
   "cell_type": "markdown",
   "metadata": {},
   "source": [
    "$H^2$\n",
    "\n",
    "$H^{index}$"
   ]
  },
  {
   "attachments": {},
   "cell_type": "markdown",
   "metadata": {},
   "source": [
    "## Simbol Matematika"
   ]
  },
  {
   "attachments": {},
   "cell_type": "markdown",
   "metadata": {},
   "source": [
    "### Addition"
   ]
  },
  {
   "attachments": {},
   "cell_type": "markdown",
   "metadata": {},
   "source": [
    "$+$"
   ]
  },
  {
   "attachments": {},
   "cell_type": "markdown",
   "metadata": {},
   "source": [
    "### Subtraction"
   ]
  },
  {
   "attachments": {},
   "cell_type": "markdown",
   "metadata": {},
   "source": [
    "$-$"
   ]
  },
  {
   "attachments": {},
   "cell_type": "markdown",
   "metadata": {},
   "source": [
    "### Multiplication (times)"
   ]
  },
  {
   "attachments": {},
   "cell_type": "markdown",
   "metadata": {},
   "source": [
    "$\\times$"
   ]
  },
  {
   "attachments": {},
   "cell_type": "markdown",
   "metadata": {},
   "source": [
    "### Fraction"
   ]
  },
  {
   "attachments": {},
   "cell_type": "markdown",
   "metadata": {},
   "source": [
    "$\\frac{a}{b}$"
   ]
  },
  {
   "attachments": {},
   "cell_type": "markdown",
   "metadata": {},
   "source": [
    "**Tabel Simbol Matematika**\n",
    "\n",
    "|Deskripsi|Kode|Output|\n",
    "|-|-|-|\n",
    "|Plus Minus | `\\pm`|$\\pm$|\n",
    "|Multiplication (dot)|`\\cdot`| $\\cdot$|\n",
    "|Circle Plus | `\\oplus`| $\\oplus$|\n",
    "|Circle Times | `\\otimes`| $\\otimes$|\n",
    "|Not Equal|`\\ne`|$\\ne$|\n",
    "|Less Than | `<` |$<$|\n",
    "|Greater Than|`>`|$>$|\n",
    "|Less Than or Equal to| `\\le` | $\\le$|\n",
    "|Greater Than or Equal to | `\\ge` | $\\ge$|\n",
    "|Approximately Equal to | `\\approx` | $\\approx$ |\n",
    "|Infinity | `\\infty` | $\\infty$ |\n",
    "|Dots | `1,2,3,\\ldots`| $1,2,3,\\ldots$|\n",
    "|Square Root| `\\sqrt{x}`|$\\sqrt{x}$|\n",
    "|*n*th Root |`\\sqrt[n]{x}`| $\\sqrt[n]{x}$|\n",
    "|Logarithms|`\\log_{a}b`| $\\log_{a}b$ |\n",
    "|Maps to | `\\to`|$\\to$|\n",
    "|Composition | `\\circ`|$\\circ$|\n"
   ]
  },
  {
   "attachments": {},
   "cell_type": "markdown",
   "metadata": {},
   "source": [
    "# *Referensi*\n",
    "\n",
    "1. https://www.markdownguide.org/\n",
    "2. https://www.reed.edu/academic_support/pdfs/qskills/latexcheatsheet.pdf"
   ]
  }
 ],
 "metadata": {
  "language_info": {
   "name": "python"
  },
  "orig_nbformat": 4
 },
 "nbformat": 4,
 "nbformat_minor": 2
}
