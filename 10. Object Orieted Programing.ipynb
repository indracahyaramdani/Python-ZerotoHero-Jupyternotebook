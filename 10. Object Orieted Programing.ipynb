{
 "cells": [
  {
   "attachments": {},
   "cell_type": "markdown",
   "metadata": {},
   "source": [
    "# Daftar Isi\n",
    "\n",
    "1. [Object Oriented Programming](#object-oriented-programing)\n",
    "    * [Pengenalan Object Oriented Programing]()\n",
    "    * [Learning Objective]()\n",
    "2. [Object](#object)\n",
    "3. [Class Python](#class-pada-python)\n",
    "4. [Inherence](#inheritance)\n",
    "5. [Abstraction](#abstraction)\n",
    "6. [Encalupation](#encapsulation)"
   ]
  },
  {
   "attachments": {},
   "cell_type": "markdown",
   "metadata": {},
   "source": [
    "# Object Oriented Programing"
   ]
  },
  {
   "attachments": {},
   "cell_type": "markdown",
   "metadata": {},
   "source": [
    "## Pengenalan Object Oriented Programming(OOP)\n"
   ]
  },
  {
   "attachments": {},
   "cell_type": "markdown",
   "metadata": {},
   "source": [
    "Object Oriented Programing(OOP) merupakan teori ilmu pemrograman untuk menyusun program dengan menggabungkan sifat dan prilaku menjadi sebuah objek individual. Sebagai contoh kita akan menyusun sifat dan prilaku dari dua orang yang kita dapat ketahui bahwa orang pasti memiliki nama, umur, dan hobi tentunya setiap variabel tersebut berbeda orang satu dengan orang dua.\n",
    "\n",
    "Beralih kepada ilmu pemrograman yang pada umumnya akan menjalankan kode secara baris demi baris secara prosedural atau berurutan. Namun jika kita akan menggunakan sebuah variabel yang sama sebagai contoh nama untuk diperbaharui nilainya akan menjadi masalah karena membutuhkan baris baru sehingga kode menjadi panjang. Selain itu, Jika ingin mengubahnya lagi akan membutuhkan kode baru. Sehingga untuk mengatasi masalah ini maka digunakan sebuah ilmu yaitu OOP sehingga pengaksesan sebuah variabel menjadi lebih mudah."
   ]
  },
  {
   "attachments": {},
   "cell_type": "markdown",
   "metadata": {},
   "source": [
    "## Learning Objective"
   ]
  },
  {
   "attachments": {},
   "cell_type": "markdown",
   "metadata": {},
   "source": [
    "> 1. **Siswa** dapat"
   ]
  },
  {
   "attachments": {},
   "cell_type": "markdown",
   "metadata": {},
   "source": [
    "# Object"
   ]
  },
  {
   "attachments": {},
   "cell_type": "markdown",
   "metadata": {},
   "source": [
    "Apa itu object?"
   ]
  },
  {
   "attachments": {},
   "cell_type": "markdown",
   "metadata": {},
   "source": [
    "# Class pada Python"
   ]
  },
  {
   "attachments": {},
   "cell_type": "markdown",
   "metadata": {},
   "source": [
    "**Class** merupakan sebuah object yang dianggap sebagai rancangan dari sebuah rumah. Dalam sebuah rumah terdapat lantai, pintu, jendela, dan lainnya."
   ]
  },
  {
   "attachments": {},
   "cell_type": "markdown",
   "metadata": {},
   "source": [
    "## Membuat Class \n",
    "\n",
    "Untuk membuat object class sebagai berikut.\n",
    "\n",
    "```py\n",
    "class namakelas:\n",
    "    #isi kode\n",
    "```\n",
    "\n",
    "Sebagai contoh kita akan membuat **class** dari data diri."
   ]
  },
  {
   "cell_type": "code",
   "execution_count": 1,
   "metadata": {},
   "outputs": [],
   "source": [
    "class data_diri:\n",
    "    nama=''\n",
    "    umur=0\n",
    "    hobi=''"
   ]
  },
  {
   "attachments": {},
   "cell_type": "markdown",
   "metadata": {},
   "source": [
    "Kita tahu bahwa **class** kita bernama **data_diri** dengan beberapa atribut sebagai berikut.\n",
    "\n",
    "* `nama` dengan default nilai sebuah string kosong\n",
    "* `umur` dengan default nilai 0\n",
    "* `hobi` dengan default nilai sebuah string kosong\n",
    "\n",
    "Jika kita print maka akan seperti berikut."
   ]
  },
  {
   "cell_type": "code",
   "execution_count": 9,
   "metadata": {},
   "outputs": [],
   "source": [
    "identitas_A = data_diri()"
   ]
  },
  {
   "cell_type": "code",
   "execution_count": 10,
   "metadata": {},
   "outputs": [
    {
     "name": "stdout",
     "output_type": "stream",
     "text": [
      "Object nama: \n",
      "Object umur: 0\n",
      "Object hobi: \n"
     ]
    }
   ],
   "source": [
    "print('Object nama:',identitas_A.nama)\n",
    "print('Object umur:',identitas_A.umur)\n",
    "print('Object hobi:',identitas_A.hobi)"
   ]
  },
  {
   "attachments": {},
   "cell_type": "markdown",
   "metadata": {},
   "source": [
    "Jika ingin merubah `identitas_A` dengan `nama`= Indra Cahya Ramdani, `umur` = 22,  `hobi` = Musik. Kode yang harus dijalankan sebagai berikut."
   ]
  },
  {
   "cell_type": "code",
   "execution_count": 11,
   "metadata": {},
   "outputs": [],
   "source": [
    "identitas_A.nama = 'Indra Cahya Ramdani' \n",
    "identitas_A.umur = 22\n",
    "identitas_A.hobi = 'Musik' "
   ]
  },
  {
   "attachments": {},
   "cell_type": "markdown",
   "metadata": {},
   "source": [
    "Setelah dijalankan kode diatas maka hasil perubahannya sebagai berikut."
   ]
  },
  {
   "cell_type": "code",
   "execution_count": 12,
   "metadata": {},
   "outputs": [
    {
     "name": "stdout",
     "output_type": "stream",
     "text": [
      "Object nama: Indra Cahya Ramdani\n",
      "Object umur: 22\n",
      "Object hobi: Musik\n"
     ]
    }
   ],
   "source": [
    "print('Object nama:',identitas_A.nama)\n",
    "print('Object umur:',identitas_A.umur)\n",
    "print('Object hobi:',identitas_A.hobi)"
   ]
  },
  {
   "attachments": {},
   "cell_type": "markdown",
   "metadata": {},
   "source": [
    "Selanjutnya kita akan mencoba membuat `identitas_B` dengan isi atribut `nama` = Stevani Doris, `umur` = 23, `hobi` = Main Game, maka kode yang dijalankan sebagai berikut. "
   ]
  },
  {
   "cell_type": "code",
   "execution_count": 14,
   "metadata": {},
   "outputs": [
    {
     "name": "stdout",
     "output_type": "stream",
     "text": [
      "Object nama: Stevani Doris\n",
      "Object umur: 23\n",
      "Object hobi: Main Game\n"
     ]
    }
   ],
   "source": [
    "identitas_B = data_diri()\n",
    "identitas_B.nama = 'Stevani Doris' \n",
    "identitas_B.umur = 23\n",
    "identitas_B.hobi = 'Main Game' \n",
    "\n",
    "\n",
    "print('Object nama:',identitas_B.nama)\n",
    "print('Object umur:',identitas_B.umur)\n",
    "print('Object hobi:',identitas_B.hobi)"
   ]
  },
  {
   "attachments": {},
   "cell_type": "markdown",
   "metadata": {},
   "source": [
    "## Constructor Class Python"
   ]
  },
  {
   "attachments": {},
   "cell_type": "markdown",
   "metadata": {},
   "source": [
    "Pada tahap diatas kita sudah menetapkan nilai default kesebuah atribut kelas, namun cara tersebut tidak disarankan karena kebanyakan programer menggunakan sebuah `constructor function`. Untuk membuat hal tersebut maka kita akan mendefinisikan fungsi dengan nama `__init__`. Dengan menggunakan attribut yang sama diatas maka kodenya akan sebagai berikut."
   ]
  },
  {
   "cell_type": "code",
   "execution_count": 15,
   "metadata": {},
   "outputs": [],
   "source": [
    "class data_diri:\n",
    "    \n",
    "    #contructor function\n",
    "    def __init__(self,nama='',umur=0,hobi=''):\n",
    "        self.nama = nama\n",
    "        self.umur = umur\n",
    "        self.hobi = hobi"
   ]
  },
  {
   "attachments": {},
   "cell_type": "markdown",
   "metadata": {},
   "source": [
    "Jika kita coba untuk membuat `identitas_A` maka kode yang dijalankan sebagai berikut."
   ]
  },
  {
   "cell_type": "code",
   "execution_count": 16,
   "metadata": {},
   "outputs": [
    {
     "name": "stdout",
     "output_type": "stream",
     "text": [
      "Object nama: \n",
      "Object umur: 0\n",
      "Object hobi: \n"
     ]
    }
   ],
   "source": [
    "identitas_A = data_diri()\n",
    "print('Object nama:',identitas_A.nama)\n",
    "print('Object umur:',identitas_A.umur)\n",
    "print('Object hobi:',identitas_A.hobi)"
   ]
  },
  {
   "attachments": {},
   "cell_type": "markdown",
   "metadata": {},
   "source": [
    "Jika kita akan memasukan nilai nama, umur, dan hobi yang sama seperti di `identitas nama` maka dapat menggunakan kode berikut."
   ]
  },
  {
   "cell_type": "code",
   "execution_count": 17,
   "metadata": {},
   "outputs": [
    {
     "name": "stdout",
     "output_type": "stream",
     "text": [
      "Object nama: Indra Cahya Ramdani\n",
      "Object umur: 22\n",
      "Object hobi: Musik\n"
     ]
    }
   ],
   "source": [
    "identitas_A = data_diri('Indra Cahya Ramdani',22,'Musik')\n",
    "print('Object nama:',identitas_A.nama)\n",
    "print('Object umur:',identitas_A.umur)\n",
    "print('Object hobi:',identitas_A.hobi)"
   ]
  },
  {
   "attachments": {},
   "cell_type": "markdown",
   "metadata": {},
   "source": [
    "# Inheritance"
   ]
  },
  {
   "attachments": {},
   "cell_type": "markdown",
   "metadata": {},
   "source": [
    "Apa itu inheritance?"
   ]
  },
  {
   "attachments": {},
   "cell_type": "markdown",
   "metadata": {},
   "source": [
    "# Polymorphism"
   ]
  },
  {
   "attachments": {},
   "cell_type": "markdown",
   "metadata": {},
   "source": [
    "# Abstraction "
   ]
  },
  {
   "attachments": {},
   "cell_type": "markdown",
   "metadata": {},
   "source": [
    "# Encapsulation"
   ]
  },
  {
   "attachments": {},
   "cell_type": "markdown",
   "metadata": {},
   "source": [
    "# Target"
   ]
  },
  {
   "attachments": {},
   "cell_type": "markdown",
   "metadata": {},
   "source": [
    "* Object\n",
    "* Class\n",
    "* Inheritance\n",
    "* Polymorphism\n",
    "* Abstraction\n",
    "* Encapsulation"
   ]
  },
  {
   "attachments": {},
   "cell_type": "markdown",
   "metadata": {},
   "source": [
    "> notes : \n",
    "haii ini adalah aku"
   ]
  }
 ],
 "metadata": {
  "kernelspec": {
   "display_name": "base",
   "language": "python",
   "name": "python3"
  },
  "language_info": {
   "codemirror_mode": {
    "name": "ipython",
    "version": 3
   },
   "file_extension": ".py",
   "mimetype": "text/x-python",
   "name": "python",
   "nbconvert_exporter": "python",
   "pygments_lexer": "ipython3",
   "version": "3.10.9"
  },
  "orig_nbformat": 4
 },
 "nbformat": 4,
 "nbformat_minor": 2
}
